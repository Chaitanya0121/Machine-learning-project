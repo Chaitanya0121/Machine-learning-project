{
 "cells": [
  {
   "cell_type": "code",
   "execution_count": 1,
   "id": "cbef07fa",
   "metadata": {},
   "outputs": [],
   "source": [
    "import pandas as pd\n",
    "import numpy as np\n",
    "import seaborn as sns\n",
    "import matplotlib.pyplot as py\n",
    "from sklearn.linear_model import LinearRegression\n",
    "from sklearn import linear_model"
   ]
  },
  {
   "cell_type": "code",
   "execution_count": 2,
   "id": "c076d9fb",
   "metadata": {},
   "outputs": [
    {
     "data": {
      "text/html": [
       "<div>\n",
       "<style scoped>\n",
       "    .dataframe tbody tr th:only-of-type {\n",
       "        vertical-align: middle;\n",
       "    }\n",
       "\n",
       "    .dataframe tbody tr th {\n",
       "        vertical-align: top;\n",
       "    }\n",
       "\n",
       "    .dataframe thead th {\n",
       "        text-align: right;\n",
       "    }\n",
       "</style>\n",
       "<table border=\"1\" class=\"dataframe\">\n",
       "  <thead>\n",
       "    <tr style=\"text-align: right;\">\n",
       "      <th></th>\n",
       "      <th>name</th>\n",
       "      <th>year</th>\n",
       "      <th>selling_price</th>\n",
       "      <th>km_driven</th>\n",
       "      <th>fuel</th>\n",
       "      <th>seller_type</th>\n",
       "      <th>transmission</th>\n",
       "      <th>owner</th>\n",
       "      <th>mileage (kmpl)</th>\n",
       "      <th>engine (cc)</th>\n",
       "      <th>max_power</th>\n",
       "      <th>torque</th>\n",
       "      <th>seats</th>\n",
       "    </tr>\n",
       "  </thead>\n",
       "  <tbody>\n",
       "    <tr>\n",
       "      <th>0</th>\n",
       "      <td>Maruti Swift Dzire VDI</td>\n",
       "      <td>2014</td>\n",
       "      <td>450000</td>\n",
       "      <td>145500</td>\n",
       "      <td>Diesel</td>\n",
       "      <td>Individual</td>\n",
       "      <td>Manual</td>\n",
       "      <td>First Owner</td>\n",
       "      <td>23.40</td>\n",
       "      <td>1248</td>\n",
       "      <td>74 bhp</td>\n",
       "      <td>190Nm@ 2000rpm</td>\n",
       "      <td>5</td>\n",
       "    </tr>\n",
       "    <tr>\n",
       "      <th>1</th>\n",
       "      <td>Skoda Rapid 1.5 TDI Ambition</td>\n",
       "      <td>2014</td>\n",
       "      <td>370000</td>\n",
       "      <td>120000</td>\n",
       "      <td>Diesel</td>\n",
       "      <td>Individual</td>\n",
       "      <td>Manual</td>\n",
       "      <td>Second Owner</td>\n",
       "      <td>21.14</td>\n",
       "      <td>1498</td>\n",
       "      <td>103.52 bhp</td>\n",
       "      <td>250Nm@ 1500-2500rpm</td>\n",
       "      <td>5</td>\n",
       "    </tr>\n",
       "    <tr>\n",
       "      <th>2</th>\n",
       "      <td>Honda City 2017-2020 EXi</td>\n",
       "      <td>2006</td>\n",
       "      <td>158000</td>\n",
       "      <td>140000</td>\n",
       "      <td>Petrol</td>\n",
       "      <td>Individual</td>\n",
       "      <td>Manual</td>\n",
       "      <td>Third Owner</td>\n",
       "      <td>17.70</td>\n",
       "      <td>1497</td>\n",
       "      <td>78 bhp</td>\n",
       "      <td>12.7@ 2,700(kgm@ rpm)</td>\n",
       "      <td>5</td>\n",
       "    </tr>\n",
       "    <tr>\n",
       "      <th>3</th>\n",
       "      <td>Hyundai i20 Sportz Diesel</td>\n",
       "      <td>2010</td>\n",
       "      <td>225000</td>\n",
       "      <td>127000</td>\n",
       "      <td>Diesel</td>\n",
       "      <td>Individual</td>\n",
       "      <td>Manual</td>\n",
       "      <td>First Owner</td>\n",
       "      <td>23.00</td>\n",
       "      <td>1396</td>\n",
       "      <td>90 bhp</td>\n",
       "      <td>22.4 kgm at 1750-2750rpm</td>\n",
       "      <td>5</td>\n",
       "    </tr>\n",
       "    <tr>\n",
       "      <th>4</th>\n",
       "      <td>Hyundai Xcent 1.2 VTVT E Plus</td>\n",
       "      <td>2017</td>\n",
       "      <td>440000</td>\n",
       "      <td>45000</td>\n",
       "      <td>Petrol</td>\n",
       "      <td>Individual</td>\n",
       "      <td>Manual</td>\n",
       "      <td>First Owner</td>\n",
       "      <td>20.14</td>\n",
       "      <td>1197</td>\n",
       "      <td>81.86 bhp</td>\n",
       "      <td>113.75nm@ 4000rpm</td>\n",
       "      <td>5</td>\n",
       "    </tr>\n",
       "    <tr>\n",
       "      <th>...</th>\n",
       "      <td>...</td>\n",
       "      <td>...</td>\n",
       "      <td>...</td>\n",
       "      <td>...</td>\n",
       "      <td>...</td>\n",
       "      <td>...</td>\n",
       "      <td>...</td>\n",
       "      <td>...</td>\n",
       "      <td>...</td>\n",
       "      <td>...</td>\n",
       "      <td>...</td>\n",
       "      <td>...</td>\n",
       "      <td>...</td>\n",
       "    </tr>\n",
       "    <tr>\n",
       "      <th>7132</th>\n",
       "      <td>Hyundai i20 Magna</td>\n",
       "      <td>2013</td>\n",
       "      <td>320000</td>\n",
       "      <td>110000</td>\n",
       "      <td>Petrol</td>\n",
       "      <td>Individual</td>\n",
       "      <td>Manual</td>\n",
       "      <td>First Owner</td>\n",
       "      <td>18.50</td>\n",
       "      <td>1197</td>\n",
       "      <td>82.85 bhp</td>\n",
       "      <td>113.7Nm@ 4000rpm</td>\n",
       "      <td>5</td>\n",
       "    </tr>\n",
       "    <tr>\n",
       "      <th>7133</th>\n",
       "      <td>Hyundai Verna CRDi SX</td>\n",
       "      <td>2007</td>\n",
       "      <td>135000</td>\n",
       "      <td>119000</td>\n",
       "      <td>Diesel</td>\n",
       "      <td>Individual</td>\n",
       "      <td>Manual</td>\n",
       "      <td>Fourth &amp; Above Owner</td>\n",
       "      <td>16.80</td>\n",
       "      <td>1493</td>\n",
       "      <td>110 bhp</td>\n",
       "      <td>24@ 1,900-2,750(kgm@ rpm)</td>\n",
       "      <td>5</td>\n",
       "    </tr>\n",
       "    <tr>\n",
       "      <th>7134</th>\n",
       "      <td>Maruti Swift Dzire ZDi</td>\n",
       "      <td>2009</td>\n",
       "      <td>382000</td>\n",
       "      <td>120000</td>\n",
       "      <td>Diesel</td>\n",
       "      <td>Individual</td>\n",
       "      <td>Manual</td>\n",
       "      <td>First Owner</td>\n",
       "      <td>19.30</td>\n",
       "      <td>1248</td>\n",
       "      <td>73.9 bhp</td>\n",
       "      <td>190Nm@ 2000rpm</td>\n",
       "      <td>5</td>\n",
       "    </tr>\n",
       "    <tr>\n",
       "      <th>7135</th>\n",
       "      <td>Tata Indigo CR4</td>\n",
       "      <td>2013</td>\n",
       "      <td>290000</td>\n",
       "      <td>25000</td>\n",
       "      <td>Diesel</td>\n",
       "      <td>Individual</td>\n",
       "      <td>Manual</td>\n",
       "      <td>First Owner</td>\n",
       "      <td>23.57</td>\n",
       "      <td>1396</td>\n",
       "      <td>70 bhp</td>\n",
       "      <td>140Nm@ 1800-3000rpm</td>\n",
       "      <td>5</td>\n",
       "    </tr>\n",
       "    <tr>\n",
       "      <th>7136</th>\n",
       "      <td>Tata Indigo CR4</td>\n",
       "      <td>2013</td>\n",
       "      <td>290000</td>\n",
       "      <td>25000</td>\n",
       "      <td>Diesel</td>\n",
       "      <td>Individual</td>\n",
       "      <td>Manual</td>\n",
       "      <td>First Owner</td>\n",
       "      <td>23.57</td>\n",
       "      <td>1396</td>\n",
       "      <td>70 bhp</td>\n",
       "      <td>140Nm@ 1800-3000rpm</td>\n",
       "      <td>5</td>\n",
       "    </tr>\n",
       "  </tbody>\n",
       "</table>\n",
       "<p>7137 rows × 13 columns</p>\n",
       "</div>"
      ],
      "text/plain": [
       "                               name  year  selling_price  km_driven    fuel  \\\n",
       "0            Maruti Swift Dzire VDI  2014         450000     145500  Diesel   \n",
       "1      Skoda Rapid 1.5 TDI Ambition  2014         370000     120000  Diesel   \n",
       "2          Honda City 2017-2020 EXi  2006         158000     140000  Petrol   \n",
       "3         Hyundai i20 Sportz Diesel  2010         225000     127000  Diesel   \n",
       "4     Hyundai Xcent 1.2 VTVT E Plus  2017         440000      45000  Petrol   \n",
       "...                             ...   ...            ...        ...     ...   \n",
       "7132              Hyundai i20 Magna  2013         320000     110000  Petrol   \n",
       "7133          Hyundai Verna CRDi SX  2007         135000     119000  Diesel   \n",
       "7134         Maruti Swift Dzire ZDi  2009         382000     120000  Diesel   \n",
       "7135                Tata Indigo CR4  2013         290000      25000  Diesel   \n",
       "7136                Tata Indigo CR4  2013         290000      25000  Diesel   \n",
       "\n",
       "     seller_type transmission                 owner  mileage (kmpl)  \\\n",
       "0     Individual       Manual           First Owner           23.40   \n",
       "1     Individual       Manual          Second Owner           21.14   \n",
       "2     Individual       Manual           Third Owner           17.70   \n",
       "3     Individual       Manual           First Owner           23.00   \n",
       "4     Individual       Manual           First Owner           20.14   \n",
       "...          ...          ...                   ...             ...   \n",
       "7132  Individual       Manual           First Owner           18.50   \n",
       "7133  Individual       Manual  Fourth & Above Owner           16.80   \n",
       "7134  Individual       Manual           First Owner           19.30   \n",
       "7135  Individual       Manual           First Owner           23.57   \n",
       "7136  Individual       Manual           First Owner           23.57   \n",
       "\n",
       "      engine (cc)   max_power                     torque  seats  \n",
       "0            1248      74 bhp             190Nm@ 2000rpm      5  \n",
       "1            1498  103.52 bhp        250Nm@ 1500-2500rpm      5  \n",
       "2            1497      78 bhp      12.7@ 2,700(kgm@ rpm)      5  \n",
       "3            1396      90 bhp   22.4 kgm at 1750-2750rpm      5  \n",
       "4            1197   81.86 bhp          113.75nm@ 4000rpm      5  \n",
       "...           ...         ...                        ...    ...  \n",
       "7132         1197   82.85 bhp           113.7Nm@ 4000rpm      5  \n",
       "7133         1493     110 bhp  24@ 1,900-2,750(kgm@ rpm)      5  \n",
       "7134         1248    73.9 bhp             190Nm@ 2000rpm      5  \n",
       "7135         1396      70 bhp        140Nm@ 1800-3000rpm      5  \n",
       "7136         1396      70 bhp        140Nm@ 1800-3000rpm      5  \n",
       "\n",
       "[7137 rows x 13 columns]"
      ]
     },
     "execution_count": 2,
     "metadata": {},
     "output_type": "execute_result"
    }
   ],
   "source": [
    "data = pd.read_csv(\"C:\\\\Users\\\\Chaitanya\\\\OneDrive\\\\Desktop\\\\AI Lab\\\\Lab\\\\Project\\\\Dataset\\\\carDekho Dataset\\\\Car details v3 24July.csv\")     \n",
    "data"
   ]
  },
  {
   "cell_type": "code",
   "execution_count": 3,
   "id": "cb1c0bbc",
   "metadata": {},
   "outputs": [],
   "source": [
    "x_train = data[['year','km_driven','mileage (kmpl)','engine (cc)','seats']]\n",
    "y_train = data[['selling_price']]"
   ]
  },
  {
   "cell_type": "code",
   "execution_count": 4,
   "id": "9c3f32ff",
   "metadata": {},
   "outputs": [
    {
     "data": {
      "text/plain": [
       "<seaborn.axisgrid.PairGrid at 0x1d02ce4ebe0>"
      ]
     },
     "execution_count": 4,
     "metadata": {},
     "output_type": "execute_result"
    },
    {
     "data": {
      "image/png": "[encoded data removed]",
      "text/plain": [
       "<Figure size 900x180 with 5 Axes>"
      ]
     },
     "metadata": {
      "needs_background": "light"
     },
     "output_type": "display_data"
    }
   ],
   "source": [
    "sns.pairplot(data, x_vars=['year','km_driven','mileage (kmpl)','engine (cc)','seats'], y_vars='selling_price')"
   ]
  },
  {
   "cell_type": "code",
   "execution_count": 5,
   "id": "97f480d4",
   "metadata": {},
   "outputs": [],
   "source": [
    "LR = LinearRegression()\n",
    "Model = LR.fit(x_train,y_train)\n",
    "list = []\n",
    "list = LR.coef_.tolist()\n",
    "theta1 = LR.intercept_"
   ]
  },
  {
   "cell_type": "code",
   "execution_count": 6,
   "id": "f130b355",
   "metadata": {},
   "outputs": [
    {
     "data": {
      "text/plain": [
       "Text(0, 0.5, 'Selling Price')"
      ]
     },
     "execution_count": 6,
     "metadata": {},
     "output_type": "execute_result"
    },
    {
     "data": {
      "image/png": "[encoded data removed]",
      "text/plain": [
       "<Figure size 432x288 with 1 Axes>"
      ]
     },
     "metadata": {
      "needs_background": "light"
     },
     "output_type": "display_data"
    }
   ],
   "source": [
    "y_value = data['selling_price']\n",
    "x_value = list[0][0]*data['year']+list[0][1]*data['km_driven']+list[0][2]*data['mileage (kmpl)']+list[0][3]*data['engine (cc)']+list[0][4]*data['seats']+theta1\n",
    "py.scatter(x_value,y_value,c='blue')\n",
    "y_pred = LR.predict(x_train)\n",
    "py.plot(x_value,y_pred,c='orange')\n",
    "py.xlabel(\"Year Km driven Mileage Engine Seats C\")\n",
    "py.ylabel(\"Selling Price\")"
   ]
  },
  {
   "cell_type": "code",
   "execution_count": 7,
   "id": "b8902ba8",
   "metadata": {},
   "outputs": [
    {
     "name": "stdout",
     "output_type": "stream",
     "text": [
      "Final equation of the model is: \n",
      "Selling price = 97719.19 *year  -3.41 *km_driven  -2568.19 *mileage + 1368.80 *engine  -380587.28 *seats  -195890570.22\n"
     ]
    }
   ],
   "source": [
    "print(\"Final equation of the model is: \")\n",
    "print(\"Selling price = \",end='')\n",
    "print('%.2f'%list[0][0],\"*year \",'%.2f'%list[0][1],\"*km_driven \",'%.2f'%list[0][2],\"*mileage +\",'%.2f'%list[0][3],\"*engine \",'%.2f'%list[0][4],\"*seats \",'%.2f'%theta1)                 "
   ]
  },
  {
   "cell_type": "code",
   "execution_count": 8,
   "id": "f414ac79",
   "metadata": {},
   "outputs": [
    {
     "name": "stdout",
     "output_type": "stream",
     "text": [
      "r2 Score: 0.5387371645219524\n"
     ]
    }
   ],
   "source": [
    "y_pred = LR.predict(x_train)\n",
    "score = LR.score(x_train,y_train)\n",
    "print(\"r2 Score:\",score)"
   ]
  },
  {
   "cell_type": "code",
   "execution_count": null,
   "id": "321f2f0c",
   "metadata": {},
   "outputs": [],
   "source": [
    "Year = int(input(\"Enter the year of manufacture of the automobile: \"))\n",
    "Km = int(input(\"Enter the total km driven by the automobile: \"))\n",
    "Mil = float(input(\"Enter the mileage given by the automobile: \"))\n",
    "Eng = int(input(\"Enter the enigne output(in CC): \"))\n",
    "Seat = int(input(\"Enter the number of seats: \"))\n",
    "\n",
    "predict = LR.predict([[Year,Km,Mil,Eng,Seat]])\n",
    "print(\"Predcited value: \",int(predict))"
   ]
  },
  {
   "cell_type": "code",
   "execution_count": null,
   "id": "6564245c",
   "metadata": {},
   "outputs": [],
   "source": []
  }
 ],
 "metadata": {
  "kernelspec": {
   "display_name": "Python 3",
   "language": "python",
   "name": "python3"
  },
  "language_info": {
   "codemirror_mode": {
    "name": "ipython",
    "version": 3
   },
   "file_extension": ".py",
   "mimetype": "text/x-python",
   "name": "python",
   "nbconvert_exporter": "python",
   "pygments_lexer": "ipython3",
   "version": "3.9.6"
  }
 },
 "nbformat": 4,
 "nbformat_minor": 5
}
